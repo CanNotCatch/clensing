{
 "cells": [
  {
   "cell_type": "code",
   "execution_count": 3,
   "metadata": {},
   "outputs": [],
   "source": [
    "import pandas as pd\n",
    "import sys"
   ]
  },
  {
   "cell_type": "code",
   "execution_count": 6,
   "metadata": {},
   "outputs": [
    {
     "name": "stdout",
     "output_type": "stream",
     "text": [
      "completed\n"
     ]
    }
   ],
   "source": [
    "try:\n",
    "    try:\n",
    "        #data source - https://www.stats.govt.nz/\n",
    "        df = pd.read_csv('list_of_real_usa_addresses.csv')\n",
    "    except FileNotFoundError:\n",
    "        print(\"file not found\")\n",
    "    #spliting with , then storing and creating tempcol - addresstemp\n",
    "    df[['Street', 'addresstemp']] = df['address'].str.split(\",\", expand=True)\n",
    "\n",
    "    #using addresstemp and splitting with spaces - that will be stored as list, we are picking the value from list by giving index\n",
    "    try:\n",
    "        df['city'] = df['addresstemp'].apply(lambda x: x.split(\" \")[0])\n",
    "        df['State'] = df['addresstemp'].apply(lambda x: x.split(\" \")[1])\n",
    "        df['Zip Code'] = df['addresstemp'].apply(lambda x: x.split(\" \")[2])\n",
    "    except ValueError:\n",
    "        print('Error : Columns must be same length as key')\n",
    "    except:\n",
    "        print(\"something went worong, check the code\")\n",
    "\n",
    "    #removing the temp column\n",
    "    df = df.drop('addresstemp', axis=1)\n",
    "    #exporting to csv\n",
    "    df.to_csv('cleaned file.csv')\n",
    "    print('completed')\n",
    "except:\n",
    "    print(\"could not processed\", sys.exc_info())"
   ]
  },
  {
   "cell_type": "code",
   "execution_count": null,
   "metadata": {},
   "outputs": [],
   "source": []
  },
  {
   "cell_type": "code",
   "execution_count": 53,
   "metadata": {},
   "outputs": [],
   "source": []
  },
  {
   "cell_type": "code",
   "execution_count": 54,
   "metadata": {},
   "outputs": [],
   "source": []
  },
  {
   "cell_type": "code",
   "execution_count": 56,
   "metadata": {},
   "outputs": [],
   "source": []
  }
 ],
 "metadata": {
  "kernelspec": {
   "display_name": "base",
   "language": "python",
   "name": "python3"
  },
  "language_info": {
   "codemirror_mode": {
    "name": "ipython",
    "version": 3
   },
   "file_extension": ".py",
   "mimetype": "text/x-python",
   "name": "python",
   "nbconvert_exporter": "python",
   "pygments_lexer": "ipython3",
   "version": "3.10.9"
  },
  "orig_nbformat": 4
 },
 "nbformat": 4,
 "nbformat_minor": 2
}
